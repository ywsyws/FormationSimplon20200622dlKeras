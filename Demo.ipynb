{
 "cells": [
  {
   "cell_type": "code",
   "execution_count": 10,
   "metadata": {},
   "outputs": [],
   "source": [
    "# Tensorflow : le package de Deep Learning que nous allons utiliser\n",
    "import tensorflow as tf\n",
    "\n",
    "# Gestion des tableaux de données\n",
    "import numpy as np\n",
    "\n",
    "# Visualisation\n",
    "from matplotlib import pyplot as plt\n",
    "%matplotlib inline"
   ]
  },
  {
   "cell_type": "code",
   "execution_count": 66,
   "metadata": {},
   "outputs": [],
   "source": [
    "# Création des données avec lesquelles nous allons entraîner le modèle\n",
    "X = np.random.uniform(0, 1, size=100)\n",
    "y = 0.2*X + 0.3 + np.random.randn(100)/50"
   ]
  },
  {
   "cell_type": "code",
   "execution_count": 67,
   "metadata": {},
   "outputs": [
    {
     "data": {
      "text/plain": [
       "<matplotlib.collections.PathCollection object at 0x7fc0df235760>"
      ]
     },
     "execution_count": 67,
     "metadata": {},
     "output_type": "execute_result"
    },
    {
     "data": {
      "image/png": "[encoded data removed]",
      "text/plain": [
       "<Figure size 432x288 with 1 Axes>"
      ]
     },
     "metadata": {
      "needs_background": "light"
     },
     "output_type": "display_data"
    }
   ],
   "source": [
    "# Visualisation des données\n",
    "plt.scatter(X, y)"
   ]
  },
  {
   "cell_type": "code",
   "execution_count": 72,
   "metadata": {
    "collapsed": true
   },
   "outputs": [
    {
     "name": "stdout",
     "output_type": "stream",
     "text": [
      "Epoch 1/10\n",
      "4/4 [==============================] - 0s 1ms/step - loss: 0.0130\n",
      "Epoch 2/10\n",
      "4/4 [==============================] - 0s 2ms/step - loss: 0.0022\n",
      "Epoch 3/10\n",
      "4/4 [==============================] - 0s 2ms/step - loss: 0.0015\n",
      "Epoch 4/10\n",
      "4/4 [==============================] - 0s 3ms/step - loss: 0.0018\n",
      "Epoch 5/10\n",
      "4/4 [==============================] - 0s 4ms/step - loss: 0.0013\n",
      "Epoch 6/10\n",
      "4/4 [==============================] - 0s 3ms/step - loss: 5.6274e-04\n",
      "Epoch 7/10\n",
      "4/4 [==============================] - 0s 3ms/step - loss: 7.7991e-04\n",
      "Epoch 8/10\n",
      "4/4 [==============================] - 0s 2ms/step - loss: 0.0012\n",
      "Epoch 9/10\n",
      "4/4 [==============================] - 0s 3ms/step - loss: 9.1845e-04\n",
      "Epoch 10/10\n",
      "4/4 [==============================] - 0s 2ms/step - loss: 5.9138e-04\n"
     ]
    },
    {
     "data": {
      "text/plain": [
       "<tensorflow.python.keras.callbacks.History object at 0x7fc0de094640>"
      ]
     },
     "execution_count": 72,
     "metadata": {},
     "output_type": "execute_result"
    }
   ],
   "source": [
    "# Construction du modèle\n",
    "model = tf.keras.models.Sequential([\n",
    "  tf.keras.layers.Dense(1, activation='linear'),\n",
    "])\n",
    "\n",
    "# \"Compilation\" du modèle: On indique quelle fonction de perte et quel optimisateur utiliser.\n",
    "model.compile(\n",
    "    # Adam est un optimisateur très utilisé en pratique, il marche bien dans la plupart des cas.\n",
    "    optimizer=tf.keras.optimizers.Adam(1e-1),\n",
    "    loss=\"mse\", # \"Mean squared error\", perte quadratique\n",
    ")\n",
    "\n",
    "# Entrainement\n",
    "model.fit(X, y, epochs=10)"
   ]
  },
  {
   "cell_type": "markdown",
   "metadata": {},
   "source": [
    "Regardons maintenant si le modèle a bien appris."
   ]
  },
  {
   "cell_type": "code",
   "execution_count": 73,
   "metadata": {},
   "outputs": [
    {
     "data": {
      "text/plain": [
       "<matplotlib.legend.Legend object at 0x7fc0dcfd5910>"
      ]
     },
     "execution_count": 73,
     "metadata": {},
     "output_type": "execute_result"
    },
    {
     "data": {
      "image/png": "[encoded data removed]",
      "text/plain": [
       "<Figure size 432x288 with 1 Axes>"
      ]
     },
     "metadata": {
      "needs_background": "light"
     },
     "output_type": "display_data"
    }
   ],
   "source": [
    "y_pred = model.predict(X)\n",
    "\n",
    "plt.scatter(X, y, label=\"Données\")\n",
    "plt.scatter(X, y_pred, label=\"Prédiction\")\n",
    "plt.legend()"
   ]
  },
  {
   "cell_type": "markdown",
   "metadata": {},
   "source": [
    "Vérifions à présent que les coefficients appris par le modèle correspondent bien aux coefficients que nous avions utilisés pour générer les données : 0.2 et 0.3."
   ]
  },
  {
   "cell_type": "code",
   "execution_count": 74,
   "metadata": {},
   "outputs": [
    {
     "data": {
      "text/plain": [
       "[\n",
       "  <tf.Variable 'sequential_20/dense_20/kernel:0' shape=(1, 1) dtype=float32, numpy=array([[0.19714294]], dtype=float32)>,\n",
       "  <tf.Variable 'sequential_20/dense_20/bias:0' shape=(1,) dtype=float32, numpy=array([0.3033344], dtype=float32)>,\n",
       "]"
      ]
     },
     "execution_count": 74,
     "metadata": {},
     "output_type": "execute_result"
    }
   ],
   "source": [
    "model.layers[0].variables"
   ]
  },
  {
   "cell_type": "code",
   "execution_count": null,
   "metadata": {},
   "outputs": [],
   "source": []
  }
 ],
 "metadata": {
  "kernelspec": {
   "display_name": "Python 3",
   "language": "python",
   "name": "python3"
  },
  "language_info": {
   "codemirror_mode": {
    "name": "ipython",
    "version": 3
   },
   "file_extension": ".py",
   "mimetype": "text/x-python",
   "name": "python",
   "nbconvert_exporter": "python",
   "pygments_lexer": "ipython3",
   "version": "3.6.9"
  }
 },
 "nbformat": 4,
 "nbformat_minor": 4
}
