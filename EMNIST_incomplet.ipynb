{
 "cells": [
  {
   "cell_type": "code",
   "execution_count": 4,
   "metadata": {},
   "outputs": [],
   "source": [
    "import tensorflow as tf\n",
    "import numpy as np\n",
    "import pandas as pd\n",
    "from sklearn.model_selection import train_test_split\n",
    "from sklearn.metrics import accuracy_score\n",
    "\n",
    "from matplotlib import pyplot as plt\n",
    "%matplotlib inline"
   ]
  },
  {
   "cell_type": "code",
   "execution_count": 2,
   "metadata": {},
   "outputs": [],
   "source": [
    "X = np.load(\"data/emnist_ab/images_train.npy\")\n",
    "y = np.load(\"data/emnist_ab/labels_train.npy\")\n",
    "X_test = np.load(\"data/emnist_ab/images_test.npy\")\n",
    "y_test = np.load(\"data/emnist_ab/labels_test.npy\")"
   ]
  },
  {
   "cell_type": "code",
   "execution_count": 5,
   "metadata": {},
   "outputs": [
    {
     "data": {
      "text/plain": [
       "1    10\n",
       "0    10\n",
       "dtype: int64"
      ]
     },
     "execution_count": 5,
     "metadata": {},
     "output_type": "execute_result"
    }
   ],
   "source": [
    "pd.Series(y).value_counts() # Seulement dix images de chaque classe !"
   ]
  },
  {
   "cell_type": "code",
   "execution_count": 6,
   "metadata": {},
   "outputs": [],
   "source": [
    "# Il faut séparer encore le train en deux (créer un validation set) pour pouvoir vérifier que l'on overfit pas trop\n",
    "X_train, X_val, y_train, y_val = train_test_split(X, y, test_size=0.5, shuffle=True, stratify=y)"
   ]
  },
  {
   "cell_type": "code",
   "execution_count": 7,
   "metadata": {},
   "outputs": [
    {
     "data": {
      "text/plain": [
       "<matplotlib.image.AxesImage at 0x7ff2a5b27710>"
      ]
     },
     "execution_count": 7,
     "metadata": {},
     "output_type": "execute_result"
    },
    {
     "data": {
      "image/png": "[encoded data removed]",
      "text/plain": [
       "<Figure size 432x288 with 1 Axes>"
      ]
     },
     "metadata": {},
     "output_type": "display_data"
    }
   ],
   "source": [
    "plt.imshow(X_train[0].squeeze())"
   ]
  },
  {
   "cell_type": "markdown",
   "metadata": {},
   "source": [
    "Si l'on tente d'entraîner un modèle d'une taille importante sur les 10 images dont on dispose, il tombera dans le sur-apprentissage très rapidement.\n",
    "\n",
    "Il faut donc utiliser plusieurs méthodes pour limiter cela :\n",
    "- Utiliser un modèle avec peu de paramètres / très régularisé : Vous pouvez utiliser `model.summary()` pour vérifier le nombre de paramètres entraînables du modèle, il doit être petit afin de limiter l'overfitting.\n",
    "- Utiliser le validation set pour arrêter l'entraînement quand la loss sur le validation set commence à remonter : cela s'appelle l'Early Stopping."
   ]
  },
  {
   "cell_type": "code",
   "execution_count": 43,
   "metadata": {},
   "outputs": [],
   "source": [
    "# Construire et compiler ici votre modèle.\n",
    "model = tf.keras.Sequential([\n",
    "    tf.keras.layers.Flatten(input_shape=(28,28,1)),\n",
    "    tf.keras.layers.Dense(28, activation='relu'),\n",
    "    tf.keras.layers.Dense(2, activation='linear'),\n",
    "])\n",
    "\n",
    "model.compile(\n",
    "    optimizer=tf.keras.optimizers.Adam(1e-3),\n",
    "    loss=tf.keras.losses.SparseCategoricalCrossentropy(from_logits=True),\n",
    "    metrics=[\"accuracy\"],\n",
    ")"
   ]
  },
  {
   "cell_type": "code",
   "execution_count": 44,
   "metadata": {},
   "outputs": [
    {
     "name": "stdout",
     "output_type": "stream",
     "text": [
      "Model: \"sequential_8\"\n",
      "_________________________________________________________________\n",
      "Layer (type)                 Output Shape              Param #   \n",
      "=================================================================\n",
      "flatten_8 (Flatten)          (None, 784)               0         \n",
      "_________________________________________________________________\n",
      "dense_23 (Dense)             (None, 28)                21980     \n",
      "_________________________________________________________________\n",
      "dense_24 (Dense)             (None, 2)                 58        \n",
      "=================================================================\n",
      "Total params: 22,038\n",
      "Trainable params: 22,038\n",
      "Non-trainable params: 0\n",
      "_________________________________________________________________\n"
     ]
    }
   ],
   "source": [
    "# Afficher ici le summary du modèle\n",
    "model.summary()"
   ]
  },
  {
   "cell_type": "code",
   "execution_count": 45,
   "metadata": {},
   "outputs": [
    {
     "name": "stdout",
     "output_type": "stream",
     "text": [
      "Epoch 1/30\n",
      "1/1 [==============================] - 0s 99ms/step - loss: 72.8511 - accuracy: 0.4000 - val_loss: 27.9871 - val_accuracy: 0.7000\n",
      "Epoch 2/30\n",
      "1/1 [==============================] - 0s 39ms/step - loss: 27.9101 - accuracy: 0.6000 - val_loss: 27.9628 - val_accuracy: 0.7000\n",
      "Epoch 3/30\n",
      "1/1 [==============================] - 0s 33ms/step - loss: 11.2786 - accuracy: 0.9000 - val_loss: 32.9635 - val_accuracy: 0.8000\n"
     ]
    },
    {
     "data": {
      "text/plain": [
       "<tensorflow.python.keras.callbacks.History at 0x7ff280364550>"
      ]
     },
     "execution_count": 45,
     "metadata": {},
     "output_type": "execute_result"
    }
   ],
   "source": [
    "# Entraîner ici votre modèle\n",
    "model.fit(\n",
    "    X_train,\n",
    "    y_train,\n",
    "    validation_data=(X_val, y_val),\n",
    "    epochs=30,\n",
    "    callbacks=[tf.keras.callbacks.EarlyStopping(patience=1)],\n",
    ")"
   ]
  },
  {
   "cell_type": "code",
   "execution_count": 46,
   "metadata": {},
   "outputs": [
    {
     "name": "stdout",
     "output_type": "stream",
     "text": [
      "212/212 [==============================] - 0s 1ms/step - loss: 34.3016 - accuracy: 0.6551\n"
     ]
    },
    {
     "data": {
      "text/plain": [
       "[34.3016242980957, 0.6550502181053162]"
      ]
     },
     "execution_count": 46,
     "metadata": {},
     "output_type": "execute_result"
    }
   ],
   "source": [
    "# Evaluation du modèle\n",
    "## Attention : dans cette mise en situation, l'entreprise n'a accès qu'à très peu d'images, c'est le coeur du problème.\n",
    "## Le test set que nous utilisons dans ce notebook n'existe donc pas dans la mise en situation.\n",
    "## Il représente le monde réel et tous les autres A et B que l'algorithme devra traiter après avoir été entraîné.\n",
    "## Il faut donc l'utiliser le moins de fois possible dans cet exercice et il ne doit surtout pas être utilisé\n",
    "## pour décider quel modèle utiliser.\n",
    "## Pour cela, fiez-vous à votre validation set.\n",
    "model.evaluate(X_test, y_test)"
   ]
  },
  {
   "cell_type": "markdown",
   "metadata": {},
   "source": [
    "Chez moi, le modèle atteint déjà une accuracy de 60-65%. C'est déjà la preuve qu'il apprend mais on peut faire mieux."
   ]
  },
  {
   "cell_type": "markdown",
   "metadata": {},
   "source": [
    "Avec data augmentation :"
   ]
  },
  {
   "cell_type": "code",
   "execution_count": 50,
   "metadata": {},
   "outputs": [],
   "source": [
    "# Utilisez tf.keras.preprocessing.image.ImageDataGenerator pour créer un objet \"generator\" qui permettra\n",
    "# de modifier légèrement les images à chaque epoch d'entraînement.\n",
    "datagen = tf.keras.preprocessing.image.ImageDataGenerator(\n",
    "    featurewise_center=True,\n",
    "    featurewise_std_normalization=True,\n",
    "    rotation_range=20,\n",
    "    width_shift_range=0.2,\n",
    "    height_shift_range=0.2,\n",
    "    )"
   ]
  },
  {
   "cell_type": "code",
   "execution_count": 57,
   "metadata": {},
   "outputs": [],
   "source": [
    "# Construisez ici un modèle avec plus de paramètres que le précédent :\n",
    "# Grâce à la data augmentation, il va beaucoup moins overfitter que le précédent.\n",
    "model2 = tf.keras.Sequential([\n",
    "        tf.keras.layers.Flatten(input_shape=(28,28,1)),\n",
    "        tf.keras.layers.Dense(28, activation='relu'),\n",
    "        tf.keras.layers.Dense(14, activation='relu'),\n",
    "        tf.keras.layers.Dense(7, activation='relu'),\n",
    "        tf.keras.layers.Dense(2, activation='linear'),\n",
    "])\n",
    "\n",
    "model2.compile(\n",
    "    optimizer=tf.keras.optimizers.Adam(1e-3),\n",
    "    loss=tf.keras.losses.SparseCategoricalCrossentropy(from_logits=True),\n",
    "    metrics=[\"accuracy\"],\n",
    ")"
   ]
  },
  {
   "cell_type": "code",
   "execution_count": 58,
   "metadata": {},
   "outputs": [
    {
     "name": "stdout",
     "output_type": "stream",
     "text": [
      "Epoch 1/30\n",
      "3/3 [==============================] - 0s 42ms/step - loss: 0.7537 - accuracy: 0.6000 - val_loss: 41.7991 - val_accuracy: 0.5000\n",
      "Epoch 2/30\n",
      "3/3 [==============================] - 0s 12ms/step - loss: 0.6655 - accuracy: 0.7000 - val_loss: 41.9492 - val_accuracy: 0.4000\n",
      "Epoch 3/30\n",
      "3/3 [==============================] - 0s 14ms/step - loss: 0.8106 - accuracy: 0.6000 - val_loss: 34.5210 - val_accuracy: 0.2000\n",
      "Epoch 4/30\n",
      "3/3 [==============================] - 0s 14ms/step - loss: 0.7538 - accuracy: 0.4000 - val_loss: 24.8822 - val_accuracy: 0.2000\n",
      "Epoch 5/30\n",
      "3/3 [==============================] - 0s 13ms/step - loss: 0.7088 - accuracy: 0.3000 - val_loss: 20.7568 - val_accuracy: 0.3000\n",
      "Epoch 6/30\n",
      "3/3 [==============================] - 0s 13ms/step - loss: 0.5790 - accuracy: 0.7000 - val_loss: 16.8916 - val_accuracy: 0.3000\n",
      "Epoch 7/30\n",
      "3/3 [==============================] - 0s 13ms/step - loss: 0.7643 - accuracy: 0.6000 - val_loss: 15.5564 - val_accuracy: 0.6000\n",
      "Epoch 8/30\n",
      "3/3 [==============================] - 0s 13ms/step - loss: 0.7322 - accuracy: 0.6000 - val_loss: 16.3494 - val_accuracy: 0.7000\n",
      "Epoch 9/30\n",
      "3/3 [==============================] - 0s 13ms/step - loss: 0.5394 - accuracy: 0.7000 - val_loss: 15.6439 - val_accuracy: 0.7000\n",
      "Epoch 10/30\n",
      "3/3 [==============================] - 0s 13ms/step - loss: 0.4831 - accuracy: 0.8000 - val_loss: 17.3205 - val_accuracy: 0.6000\n",
      "Epoch 11/30\n",
      "3/3 [==============================] - 0s 14ms/step - loss: 0.5492 - accuracy: 0.8000 - val_loss: 19.1891 - val_accuracy: 0.6000\n",
      "Epoch 12/30\n",
      "3/3 [==============================] - 0s 13ms/step - loss: 0.4394 - accuracy: 0.8000 - val_loss: 19.8320 - val_accuracy: 0.7000\n"
     ]
    },
    {
     "data": {
      "text/plain": [
       "<tensorflow.python.keras.callbacks.History at 0x7ff29c19a8d0>"
      ]
     },
     "execution_count": 58,
     "metadata": {},
     "output_type": "execute_result"
    }
   ],
   "source": [
    "# Entraînez ici votre modèle en utilisant generator.flow(X_train, y_train)\n",
    "datagen.fit(X_train)\n",
    "\n",
    "model2.fit_generator(\n",
    "    datagen.flow(X_train,y_train, batch_size=4),\n",
    "    validation_data=(X_val, y_val),\n",
    "    epochs=30,\n",
    "    callbacks=[tf.keras.callbacks.EarlyStopping(patience=5)],\n",
    ")"
   ]
  },
  {
   "cell_type": "code",
   "execution_count": 59,
   "metadata": {},
   "outputs": [
    {
     "name": "stdout",
     "output_type": "stream",
     "text": [
      "212/212 [==============================] - 0s 1ms/step - loss: 10.5480 - accuracy: 0.7076\n"
     ]
    },
    {
     "data": {
      "text/plain": [
       "[10.54796028137207, 0.7076196074485779]"
      ]
     },
     "execution_count": 59,
     "metadata": {},
     "output_type": "execute_result"
    }
   ],
   "source": [
    "# Une fois satisfaits de votre performance sur le validation set, évaluez une seule fois sur le test set\n",
    "model2.evaluate(X_test, y_test)"
   ]
  },
  {
   "cell_type": "markdown",
   "metadata": {},
   "source": [
    "On a déjà atteint une bien meilleure performance grâce à l'augmentation de données. En effet, celle-ci limite beaucoup l'overfitting et nous permet donc d'utiliser un modèle bien plus gros.\n",
    "\n",
    "Chez moi, l'accuracy atteint 70-80%.\n",
    "\n",
    "Mais l'on peut vraisemblablement faire encore mieux en combinant cette approche à du transfer learning. Pour ce faire, on va utilser le modèle entraîné précédemment sur le jeu de données MNIST (reconnaissance de chiffres), retirer sa dernière couche et la remplacer par une couche Dense(1) afin qu'elle soit adaptée au problème actuel.\n",
    "\n",
    "Nous allons ensuite réentraîner le modèle ainsi modifié, en rendant ses couches inférieures non-entraînables."
   ]
  },
  {
   "cell_type": "code",
   "execution_count": 63,
   "metadata": {},
   "outputs": [],
   "source": [
    "# Chargez ici le modèle entraîné précédemment sur MNIST\n",
    "base_model = tf.keras.models.load_model(filepath=\"models/mnist_model.h5\")\n",
    "\n",
    "# Enlevez la dernière couche avec model.pop()\n",
    "base_model.layers.pop()\n",
    "\n",
    "# Rendez le modèle non entraînable\n",
    "base_model.trainable = False"
   ]
  },
  {
   "cell_type": "markdown",
   "metadata": {},
   "source": [
    "Construisons un nouveau modèle à partir de cet ancien."
   ]
  },
  {
   "cell_type": "code",
   "execution_count": 86,
   "metadata": {},
   "outputs": [],
   "source": [
    "# Construisez et compilez ici votre modèle de transfer learning en rajoutant au modèle mnist une couche Dense(1).\n",
    "\n",
    "inputs = tf.keras.Input(shape=(28, 28, 1))\n",
    "# We make sure that the base_model is running in inference mode here,\n",
    "# by passing `training=False`. This is important for fine-tuning, as you will\n",
    "# learn in a few paragraphs.\n",
    "x = base_model(inputs, training=False)\n",
    "# Convert features of shape `base_model.output_shape[1:]` to vectors\n",
    "# x = tf.keras.layers.GlobalAveragePooling2D()(x)\n",
    "# A Dense classifier with a single unit (binary classification)\n",
    "outputs = tf.keras.layers.Dense(2)(x)\n",
    "transfered_model = tf.keras.Model(inputs, outputs)\n",
    "\n",
    "transfered_model.compile(\n",
    "    optimizer=tf.keras.optimizers.Adam(1e-3),\n",
    "    loss=tf.keras.losses.SparseCategoricalCrossentropy(from_logits=True),\n",
    "    metrics=[\"accuracy\"],\n",
    ")"
   ]
  },
  {
   "cell_type": "code",
   "execution_count": 87,
   "metadata": {},
   "outputs": [
    {
     "name": "stdout",
     "output_type": "stream",
     "text": [
      "Epoch 1/30\n",
      "3/3 [==============================] - 0s 43ms/step - loss: 6.0121 - accuracy: 0.5000 - val_loss: 35.9042 - val_accuracy: 0.9000\n",
      "Epoch 2/30\n",
      "3/3 [==============================] - 0s 14ms/step - loss: 5.3601 - accuracy: 0.5000 - val_loss: 33.8211 - val_accuracy: 0.9000\n",
      "Epoch 3/30\n",
      "3/3 [==============================] - 0s 13ms/step - loss: 6.2097 - accuracy: 0.6000 - val_loss: 33.6680 - val_accuracy: 0.9000\n",
      "Epoch 4/30\n",
      "3/3 [==============================] - 0s 13ms/step - loss: 9.8207 - accuracy: 0.6000 - val_loss: 32.5720 - val_accuracy: 0.9000\n",
      "Epoch 5/30\n",
      "3/3 [==============================] - 0s 13ms/step - loss: 0.8973 - accuracy: 0.9000 - val_loss: 31.2258 - val_accuracy: 0.9000\n",
      "Epoch 6/30\n",
      "3/3 [==============================] - 0s 12ms/step - loss: 5.0183 - accuracy: 0.6000 - val_loss: 30.3927 - val_accuracy: 0.9000\n",
      "Epoch 7/30\n",
      "3/3 [==============================] - 0s 13ms/step - loss: 6.7322 - accuracy: 0.6000 - val_loss: 29.7881 - val_accuracy: 0.9000\n",
      "Epoch 8/30\n",
      "3/3 [==============================] - 0s 13ms/step - loss: 2.2375 - accuracy: 0.6000 - val_loss: 28.8510 - val_accuracy: 0.9000\n",
      "Epoch 9/30\n",
      "3/3 [==============================] - 0s 16ms/step - loss: 8.9741 - accuracy: 0.6000 - val_loss: 28.1825 - val_accuracy: 0.9000\n",
      "Epoch 10/30\n",
      "3/3 [==============================] - 0s 13ms/step - loss: 8.7314 - accuracy: 0.4000 - val_loss: 28.5648 - val_accuracy: 0.9000\n",
      "Epoch 11/30\n",
      "3/3 [==============================] - 0s 16ms/step - loss: 4.5407 - accuracy: 0.7000 - val_loss: 29.6150 - val_accuracy: 0.9000\n",
      "Epoch 12/30\n",
      "3/3 [==============================] - 0s 14ms/step - loss: 6.7115 - accuracy: 0.6000 - val_loss: 30.3015 - val_accuracy: 0.9000\n",
      "Epoch 13/30\n",
      "3/3 [==============================] - 0s 16ms/step - loss: 1.4947 - accuracy: 0.6000 - val_loss: 31.0294 - val_accuracy: 0.9000\n",
      "Epoch 14/30\n",
      "3/3 [==============================] - 0s 15ms/step - loss: 4.6874 - accuracy: 0.6000 - val_loss: 31.4025 - val_accuracy: 0.9000\n"
     ]
    },
    {
     "data": {
      "text/plain": [
       "<tensorflow.python.keras.callbacks.History at 0x7ff269714e48>"
      ]
     },
     "execution_count": 87,
     "metadata": {},
     "output_type": "execute_result"
    }
   ],
   "source": [
    "# Entraînez ici votre modèle. A vous de voir si vous utilisez encore la data augmentation ou si vous gardez X_train et y_train sans les changer.\n",
    "transfered_model.fit_generator(\n",
    "    datagen.flow(X_train,y_train, batch_size=4),\n",
    "    validation_data=(X_val, y_val),\n",
    "    epochs=30,\n",
    "    callbacks=[tf.keras.callbacks.EarlyStopping(patience=5)],\n",
    ")"
   ]
  },
  {
   "cell_type": "code",
   "execution_count": 88,
   "metadata": {},
   "outputs": [
    {
     "name": "stdout",
     "output_type": "stream",
     "text": [
      "212/212 [==============================] - 1s 5ms/step - loss: 264.3300 - accuracy: 0.7986\n"
     ]
    },
    {
     "data": {
      "text/plain": [
       "[264.3299865722656, 0.7985823750495911]"
      ]
     },
     "execution_count": 88,
     "metadata": {},
     "output_type": "execute_result"
    }
   ],
   "source": [
    "# Une fois satisfaits de votre performance sur le validation set, évaluez une seule fois sur le test set\n",
    "transfered_model.evaluate(X_test, y_test)"
   ]
  },
  {
   "cell_type": "markdown",
   "metadata": {},
   "source": [
    "Chez moi, la performance est comparable au modèle avec data augmentation.\n",
    "\n",
    "Cela peut s'expliquer par le fait que la tâche de reconnaissance des A et des B n'est pas très difficile et la data augmentation suffit à recouvrir une grande partie des cas possibles. Si on avait choisi une tâche plus difficile (par exemple reconnaître les 26 lettres de l'alphabet, je pense que le transfer learning aurait mieux fonctionné que la data augmentation seule."
   ]
  },
  {
   "cell_type": "code",
   "execution_count": null,
   "metadata": {},
   "outputs": [],
   "source": []
  }
 ],
 "metadata": {
  "kernelspec": {
   "display_name": "Python 3",
   "language": "python",
   "name": "python3"
  },
  "language_info": {
   "codemirror_mode": {
    "name": "ipython",
    "version": 3
   },
   "file_extension": ".py",
   "mimetype": "text/x-python",
   "name": "python",
   "nbconvert_exporter": "python",
   "pygments_lexer": "ipython3",
   "version": "3.6.9"
  }
 },
 "nbformat": 4,
 "nbformat_minor": 4
}
